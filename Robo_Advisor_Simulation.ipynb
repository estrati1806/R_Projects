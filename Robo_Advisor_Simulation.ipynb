{
  "nbformat": 4,
  "nbformat_minor": 0,
  "metadata": {
    "colab": {
      "provenance": []
    },
    "kernelspec": {
      "name": "python3",
      "display_name": "Python 3"
    },
    "language_info": {
      "name": "python"
    }
  },
  "cells": [
    {
      "cell_type": "markdown",
      "source": [
        "## **Robo-Advisor Simulation**"
      ],
      "metadata": {
        "id": "v2wfyovH4B-n"
      }
    },
    {
      "cell_type": "code",
      "source": [
        "import matplotlib.pyplot as plt"
      ],
      "metadata": {
        "id": "5LPoX-1i7-wi"
      },
      "execution_count": null,
      "outputs": []
    },
    {
      "cell_type": "code",
      "source": [
        "# Define questions and possible answers\n",
        "questions = [\n",
        "    \"Answer 'a, b, c, d or e' for the following questions:\\n\"\n",
        "\n",
        "    \"\\n1. What are your primary financial goals for these investments?\\n\"\n",
        "    \"a) Short-term goals (e.g., buying a car, vacation).\\n\"\n",
        "    \"b) Medium-term goals (e.g., buying a house, education).\\n\"\n",
        "    \"c) Long-term goals (e.g., retirement, generational wealth).\",\n",
        "\n",
        "    \"\\n2. How would you feel if your investments lost value in the short term?\\n\"\n",
        "    \"a) Very uncomfortable.\\n\"\n",
        "    \"b) Somewhat uncomfortable.\\n\"\n",
        "    \"c) Neutral.\\n\"\n",
        "    \"d) Somewhat comfortable.\\n\"\n",
        "    \"e) Very comfortable.\",\n",
        "\n",
        "    \"\\n3. Do you have a sufficient emergency fund to cover unexpected expenses?\\n\"\n",
        "    \"a) Yes, I have a substantial emergency fund.\\n\"\n",
        "    \"b) I have some savings but not enough for a major emergency.\\n\"\n",
        "    \"c) No, I don't have an emergency fund.\",\n",
        "\n",
        "    \"\\n4. How stable is your current source of income?\\n\"\n",
        "    \"a) Very stable (e.g., government job, tenured professor, senior management, etc.).\\n\"\n",
        "    \"b) Moderately stable (e.g., full-time job).\\n\"\n",
        "    \"c) Somewhat unstable (e.g., freelancing, contract work).\\n\"\n",
        "    \"d) Highly unstable (e.g., no consistent income).\",\n",
        "\n",
        "    \"\\n5.Are you willing to accept higher levels of risk for potentially higher returns?\\n\"\n",
        "    \"a) No, I prefer lower risk and lower returns.\\n\"\n",
        "    \"b) Yes, I'm willing to take some risks for potentially higher returns.\"\n",
        "]"
      ],
      "metadata": {
        "id": "ucPS5gMx8I_7"
      },
      "execution_count": null,
      "outputs": []
    },
    {
      "cell_type": "code",
      "source": [
        "# Map answers to risk points for each question\n",
        "risk_mappings = [\n",
        "    {'a': 1, 'b': 2, 'c': 3}, # Question 1\n",
        "    {'a': 1, 'b': 1.5, 'c': 2, 'd': 2.5, 'e': 3}, # Question 2\n",
        "    {'a': 3, 'b': 2, 'c': 1}, # Question 3\n",
        "    {'a': 2.5, 'b': 2, 'c': 1.5, 'd': 1}, # Question 4\n",
        "    {'a': 1, 'b': 2} # Question 5\n",
        "]"
      ],
      "metadata": {
        "id": "5KIC9XWm8QNm"
      },
      "execution_count": null,
      "outputs": []
    },
    {
      "cell_type": "code",
      "source": [
        "# Function to validate user input based on available choices\n",
        "def get_valid_input(question, valid_choices):\n",
        "    while True:\n",
        "        answer = input(question).strip().lower()\n",
        "        if answer in valid_choices:\n",
        "            return answer\n",
        "        else:\n",
        "            print(\"\\nInvalid input. Please choose from the provided options.\")"
      ],
      "metadata": {
        "id": "fxXt5385q31f"
      },
      "execution_count": null,
      "outputs": []
    },
    {
      "cell_type": "code",
      "execution_count": null,
      "metadata": {
        "id": "sfc1PiJs2j-k"
      },
      "outputs": [],
      "source": [
        "# Sample portfolio recommendations\n",
        "portfolios = {\n",
        "    'low': {'stocks': 30, 'bonds': 60, 'gold': 10, 'real estate': 0, 'crypto': 0},\n",
        "    'medium': {'stocks': 50, 'bonds': 30, 'gold': 10, 'real estate': 10, 'crypto': 0},\n",
        "    'high': {'stocks': 70, 'bonds': 15, 'gold': 5, 'real estate': 5, 'crypto': 5},\n",
        "}"
      ]
    },
    {
      "cell_type": "code",
      "source": [
        "def recommend_portfolio(risk_appetite):\n",
        "  return portfolios.get(risk_appetite)"
      ],
      "metadata": {
        "id": "AGkn1pkT3KGi"
      },
      "execution_count": null,
      "outputs": []
    },
    {
      "cell_type": "code",
      "source": [
        "# Function to plot portfolio recommendation as a pie chart\n",
        "def plot_portfolio_recommendation(recommended_portfolio):\n",
        "    labels = list(recommended_portfolio.keys())\n",
        "    sizes = list(recommended_portfolio.values())\n",
        "\n",
        "    print('\\n')\n",
        "    plt.figure(figsize=(4,4))\n",
        "    plt.pie(sizes, labels=labels, autopct='%1.1f%%', startangle=140)\n",
        "    plt.axis('equal')\n",
        "    plt.title('Recommended Portfolio Distribution')\n",
        "    plt.show()\n",
        "\n",
        "# Flag variable to control the main loop\n",
        "exit_program = False\n",
        "\n",
        "while not exit_program:\n",
        "    risk_score = 0\n",
        "    for i, question in enumerate(questions):\n",
        "        answer = get_valid_input(question, list(risk_mappings[i].keys()))\n",
        "        risk_score += risk_mappings[i][answer]\n",
        "\n",
        "    # Categorize the user's risk appetite based on the score\n",
        "    if risk_score >= 11:\n",
        "        risk_appetite = 'high'\n",
        "    elif risk_score >= 7:\n",
        "        risk_appetite = 'medium'\n",
        "    else:\n",
        "        risk_appetite = 'low'\n",
        "\n",
        "    # Fetch the recommended portfolio\n",
        "    recommended_portfolio = recommend_portfolio(risk_appetite)\n",
        "\n",
        "    if recommended_portfolio:\n",
        "        print(f\"\\nBased on your risk appetite, we recommend the following portfolio:\")\n",
        "        for asset, allocation in recommended_portfolio.items():\n",
        "            print(f\"{asset}: {allocation}%\")\n",
        "\n",
        "        # Plot the portfolio recommendation as a pie chart\n",
        "        plot_portfolio_recommendation(recommended_portfolio)\n",
        "\n",
        "        # Ask if the user wants to continue or exit\n",
        "        while True:\n",
        "            feedback = input(\"Are you satisfied with the recommendation? (yes/no): \").strip().lower()\n",
        "            if feedback == 'yes':\n",
        "                print(\"Great! Happy investing.\")\n",
        "                exit_program = True  # Set the flag to exit the program\n",
        "                break\n",
        "            elif feedback == 'no':\n",
        "                print(\"We're here to help. You can retake the risk assessment.\")\n",
        "                break\n",
        "            else:\n",
        "                print(\"Invalid feedback. Please provide 'yes' or 'no'.\")\n"
      ],
      "metadata": {
        "colab": {
          "base_uri": "https://localhost:8080/",
          "height": 1000
        },
        "id": "4repRZZNYAIb",
        "outputId": "ef830ea8-ddab-4d72-dcda-0abd7dac6ddf"
      },
      "execution_count": null,
      "outputs": [
        {
          "output_type": "stream",
          "name": "stdout",
          "text": [
            "Answer 'a, b, c, d or e' for the following questions:\n",
            "\n",
            "1. What are your primary financial goals for these investments?\n",
            "a) Short-term goals (e.g., buying a car, vacation).\n",
            "b) Medium-term goals (e.g., buying a house, education).\n",
            "c) Long-term goals (e.g., retirement, generational wealth).d\n",
            "\n",
            "Invalid input. Please choose from the provided options.\n",
            "Answer 'a, b, c, d or e' for the following questions:\n",
            "\n",
            "1. What are your primary financial goals for these investments?\n",
            "a) Short-term goals (e.g., buying a car, vacation).\n",
            "b) Medium-term goals (e.g., buying a house, education).\n",
            "c) Long-term goals (e.g., retirement, generational wealth).a\n",
            "\n",
            "2. How would you feel if your investments lost value in the short term?\n",
            "a) Very uncomfortable.\n",
            "b) Somewhat uncomfortable.\n",
            "c) Neutral.\n",
            "d) Somewhat comfortable.\n",
            "e) Very comfortable.e\n",
            "\n",
            "3. Do you have a sufficient emergency fund to cover unexpected expenses?\n",
            "a) Yes, I have a substantial emergency fund.\n",
            "b) I have some savings but not enough for a major emergency.\n",
            "c) No, I don't have an emergency fund.d\n",
            "\n",
            "Invalid input. Please choose from the provided options.\n",
            "\n",
            "3. Do you have a sufficient emergency fund to cover unexpected expenses?\n",
            "a) Yes, I have a substantial emergency fund.\n",
            "b) I have some savings but not enough for a major emergency.\n",
            "c) No, I don't have an emergency fund.a\n",
            "\n",
            "4. How stable is your current source of income?\n",
            "a) Very stable (e.g., government job).\n",
            "b) Moderately stable (e.g., full-time job).\n",
            "c) Somewhat unstable (e.g., freelancing, contract work).\n",
            "d) Highly unstable (e.g., no consistent income).b\n",
            "\n",
            "5.Are you willing to accept higher levels of risk for potentially higher returns?\n",
            "a) No, I prefer lower risk and lower returns.\n",
            "b) Yes, I'm willing to take some risks for potentially higher returns.e\n",
            "\n",
            "Invalid input. Please choose from the provided options.\n",
            "\n",
            "5.Are you willing to accept higher levels of risk for potentially higher returns?\n",
            "a) No, I prefer lower risk and lower returns.\n",
            "b) Yes, I'm willing to take some risks for potentially higher returns.b\n",
            "\n",
            "Based on your risk appetite, we recommend the following portfolio:\n",
            "stocks: 70%\n",
            "bonds: 15%\n",
            "gold: 5%\n",
            "real estate: 5%\n",
            "crypto: 5%\n",
            "\n",
            "\n"
          ]
        },
        {
          "output_type": "display_data",
          "data": {
            "text/plain": [
              "<Figure size 400x400 with 1 Axes>"
            ],
            "image/png": "[encoded data removed]"
          },
          "metadata": {}
        },
        {
          "output_type": "stream",
          "name": "stdout",
          "text": [
            "Are you satisfied with the recommendation? (yes/no): yes\n",
            "Great! Happy investing.\n"
          ]
        }
      ]
    }
  ]
}