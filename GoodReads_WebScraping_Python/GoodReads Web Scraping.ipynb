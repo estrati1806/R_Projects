{
 "cells": [
  {
   "cell_type": "code",
   "execution_count": null,
   "id": "80162375",
   "metadata": {},
   "outputs": [],
   "source": [
    "This script scrapes details of books from the Goodreads list \"Best Philosophical Fiction\" and saves the information to a CSV file. \n",
    "\n",
    "# Steps\n",
    "\n",
    "1. The first thing I did was install the required libraries using pip through Command Prompt:\n",
    "    pip install bs4\n",
    "    pip install requests \n",
    "    \n",
    "    The bs4 (BeutifulSoup4) library is a library that makes it easy to scrape information from web pages. \n",
    "    It sits atop an HTML or XML parser, providing Pythonic idioms for iterating, searching, and modifying the parse tree.\n",
    "    \n",
    "    The Requests package is crucial for making HTTP requests to a specified URL, like we do with web scraping.\n",
    "    When one makes a request to a URI, it returns a response. GoodReads is a website that allows html web scraping, so it gives a positive response.\n",
    "    Many websites do not.\n",
    "    \n",
    "2. Inspecting the website:\n",
    "    The \"Best Philosophical List\" I scraped can be found under this link: https://www.goodreads.com/list/show/1599.Best_Philosophical_Fiction.\n",
    "    This list has 3 pages and 281 books (at the time it was scraped).\n",
    "    Because it has 3 pages, I thought the best way to scrape it would be through defining a function that iterates the 3 pages."
   ]
  },
  {
   "cell_type": "code",
   "execution_count": 1,
   "id": "e33169e4",
   "metadata": {},
   "outputs": [],
   "source": [
    "from bs4 import BeautifulSoup as bs\n",
    "import requests\n",
    "import pandas as pd"
   ]
  },
  {
   "cell_type": "code",
   "execution_count": 2,
   "id": "546c752a",
   "metadata": {},
   "outputs": [],
   "source": [
    "# Function to scrape book details from a URL\n",
    "def scrape_books(url):\n",
    "    response = requests.get(url)\n",
    "    soup = bs(response.content, 'html.parser')\n",
    "\n",
    "    books = []\n",
    "    book_elements = soup.find_all('tr', itemtype='http://schema.org/Book')\n",
    "    \n",
    "    for book_element in book_elements:\n",
    "        title = book_element.find('a', class_='bookTitle').get_text(strip=True)\n",
    "        author = book_element.find('a', class_='authorName').get_text(strip=True)\n",
    "        score = book_element.find('span', class_='smallText uitext').get_text(strip=True)\n",
    "\n",
    "        books.append({\n",
    "            'title': title,\n",
    "            'author': author,\n",
    "            'score': score\n",
    "        })\n",
    "    \n",
    "    return books"
   ]
  },
  {
   "cell_type": "code",
   "execution_count": 3,
   "id": "1f703d31",
   "metadata": {},
   "outputs": [],
   "source": [
    "# Scrape data from all three pages\n",
    "all_books = []\n",
    "for page in range(1, 4):\n",
    "    page_url = f'https://www.goodreads.com/list/show/1599.Best_Philosophical_Fiction?page={page}'\n",
    "    page_books = scrape_books(page_url)\n",
    "    all_books.extend(page_books)"
   ]
  },
  {
   "cell_type": "code",
   "execution_count": 4,
   "id": "54d88ba4",
   "metadata": {},
   "outputs": [],
   "source": [
    "# Convert the list of dictionaries to a DataFrame\n",
    "books_df = pd.DataFrame(all_books)"
   ]
  },
  {
   "cell_type": "code",
   "execution_count": 5,
   "id": "9664faa8",
   "metadata": {},
   "outputs": [],
   "source": [
    "# Save the DataFrame to a CSV file\n",
    "csv_file = 'philosophical_books.csv'\n",
    "books_df.to_csv(csv_file, index=False)"
   ]
  },
  {
   "cell_type": "code",
   "execution_count": null,
   "id": "7df55da8",
   "metadata": {},
   "outputs": [],
   "source": []
  }
 ],
 "metadata": {
  "kernelspec": {
   "display_name": "Python 3 (ipykernel)",
   "language": "python",
   "name": "python3"
  },
  "language_info": {
   "codemirror_mode": {
    "name": "ipython",
    "version": 3
   },
   "file_extension": ".py",
   "mimetype": "text/x-python",
   "name": "python",
   "nbconvert_exporter": "python",
   "pygments_lexer": "ipython3",
   "version": "3.10.9"
  }
 },
 "nbformat": 4,
 "nbformat_minor": 5
}
